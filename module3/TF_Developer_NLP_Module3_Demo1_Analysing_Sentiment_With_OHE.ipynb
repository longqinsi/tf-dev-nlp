{
 "nbformat": 4,
 "nbformat_minor": 0,
 "metadata": {
  "colab": {
   "provenance": [],
   "collapsed_sections": [
    "ywIy09YSPc6S",
    "TXLqIHnNWYMN",
    "veUCSdQEB0FL",
    "quWimVZjbemw",
    "ROXVUovhYRWG",
    "tNqRJ0wCbXMv"
   ],
   "authorship_tag": "ABX9TyOxmazCw5kMd/Mjk7ojkRv+",
   "include_colab_link": true
  },
  "kernelspec": {
   "name": "python3",
   "language": "python",
   "display_name": "Python 3 (ipykernel)"
  },
  "language_info": {
   "name": "python"
  },
  "gpuClass": "standard"
 },
 "cells": [
  {
   "cell_type": "markdown",
   "metadata": {
    "id": "view-in-github",
    "colab_type": "text"
   },
   "source": [
    "<a href=\"https://colab.research.google.com/github/axel-sirota/tf-dev-nlp/blob/main/module3/TF_Developer_NLP_Module3_Demo1_Analysing_Sentiment_With_OHE.ipynb\" target=\"_parent\"><img src=\"https://colab.research.google.com/assets/colab-badge.svg\" alt=\"Open In Colab\"/></a>"
   ]
  },
  {
   "cell_type": "markdown",
   "source": [
    "# Analysing Sentiment"
   ],
   "metadata": {
    "id": "QlJeKdJfTPMp"
   }
  },
  {
   "cell_type": "markdown",
   "source": [
    "## Setup stuff"
   ],
   "metadata": {
    "id": "ywIy09YSPc6S"
   }
  },
  {
   "cell_type": "markdown",
   "source": [
    "Let's first import everything and load the dataset"
   ],
   "metadata": {
    "id": "epE01e6NbbMg"
   }
  },
  {
   "cell_type": "code",
   "source": [
    "#!pip install textblob scikit-learn pandas gensim matplotlib"
   ],
   "metadata": {
    "id": "Vny3vC29NVZ8",
    "colab": {
     "base_uri": "https://localhost:8080/"
    },
    "outputId": "d86751fc-e5ad-4971-8991-aef8235aa917",
    "ExecuteTime": {
     "start_time": "2023-04-21T22:46:51.438208Z",
     "end_time": "2023-04-21T22:46:51.450083Z"
    }
   },
   "execution_count": 1,
   "outputs": []
  },
  {
   "cell_type": "code",
   "execution_count": 2,
   "metadata": {
    "id": "ri00gAaqSzrq",
    "colab": {
     "base_uri": "https://localhost:8080/"
    },
    "outputId": "80e64532-62b4-4236-c8b5-50073cdb1f79",
    "ExecuteTime": {
     "start_time": "2023-04-21T22:46:51.456083Z",
     "end_time": "2023-04-21T22:46:52.548734Z"
    }
   },
   "outputs": [
    {
     "name": "stderr",
     "output_type": "stream",
     "text": [
      "[nltk_data] Downloading package punkt to\n",
      "[nltk_data]     C:\\Users\\longqinsi\\AppData\\Roaming\\nltk_data...\n",
      "[nltk_data]   Package punkt is already up-to-date!\n"
     ]
    },
    {
     "data": {
      "text/plain": "True"
     },
     "execution_count": 2,
     "metadata": {},
     "output_type": "execute_result"
    }
   ],
   "source": [
    "import multiprocessing\n",
    "import tensorflow as tf\n",
    "import sys\n",
    "keras = tf.keras\n",
    "import keras.backend as K\n",
    "from keras.models import Sequential\n",
    "from keras.layers import Dense, Embedding, Lambda, Input\n",
    "from keras.utils import np_utils\n",
    "from keras.preprocessing import sequence\n",
    "from keras.preprocessing.text import Tokenizer\n",
    "from textblob import TextBlob, Word\n",
    "from keras_preprocessing.sequence import pad_sequences\n",
    "from keras.initializers import Constant\n",
    "from sklearn.feature_extraction.text import CountVectorizer\n",
    "from tensorflow.nn import leaky_relu\n",
    "import numpy as np\n",
    "import random\n",
    "import os\n",
    "import pandas as pd\n",
    "import gensim\n",
    "import warnings\n",
    "import nltk\n",
    "\n",
    "TRACE = False # To verify where our operations run, you can always set the TRACE variable to True and check it for yourself.\n",
    "\n",
    "def set_seeds_and_trace():\n",
    "  \"\"\"This function sets seeds and traces such that the notebook is reproducible.\"\"\"\n",
    "  os.environ['PYTHONHASHSEED'] = '0' # the secret seed Python uses for its own hash function and also must be set for reproducibility.\n",
    "  np.random.seed(42)\n",
    "  tf.random.set_seed(42)\n",
    "  random.seed(42)\n",
    "  if TRACE:\n",
    "    tf.debugging.set_log_device_placement(True)\n",
    "\n",
    "def set_session_with_gpus_and_cores():\n",
    "  \"\"\"This function counts the available GPUs and cores and sets them to the Tensorflow and Keras session. By default, TensorFlow will choose to\n",
    "     allocate all its operations in the accelerated hardware if existent. So this helps you to do that.\"\"\"\n",
    "  cores = multiprocessing.cpu_count()\n",
    "  gpus = len(tf.config.list_physical_devices('GPU'))\n",
    "  config = tf.compat.v1.ConfigProto( device_count = {'GPU': gpus  , 'CPU': cores} , intra_op_parallelism_threads=1, inter_op_parallelism_threads=1)\n",
    "  sess = tf.compat.v1.Session(config=config)\n",
    "  K.set_session(sess)\n",
    "\n",
    "set_seeds_and_trace()\n",
    "set_session_with_gpus_and_cores()\n",
    "warnings.filterwarnings('ignore')\n",
    "nltk.set_proxy('http://127.0.0.1:51066') # nltk: Natural Language Toolkit，自然语言处理工具包，在NLP领域中，最常使用的一个Python库。\n",
    "nltk.download('punkt') # 在Windows上，nltk下载后的数据据存放在 $HOME\\AppData\\Roaming\\nltk_data,如C:\\Users\\longqinsi\\AppData\\Roaming\\nltk_data"
   ]
  },
  {
   "cell_type": "markdown",
   "source": [
    "Now we will download the dataset and explore it"
   ],
   "metadata": {
    "id": "8L6HlScpFdd9"
   }
  },
  {
   "cell_type": "markdown",
   "source": [
    "%%writefile get_data.sh\n",
    "if [ ! -f yelp.csv ]; then\n",
    "  wget -O yelp.csv https://www.dropbox.com/s/xds4lua69b7okw8/yelp.csv?dl=0\n",
    "fi"
   ],
   "metadata": {
    "collapsed": false
   }
  },
  {
   "cell_type": "markdown",
   "source": [
    "!bash get_data.sh\n"
   ],
   "metadata": {
    "collapsed": false
   }
  },
  {
   "cell_type": "code",
   "source": [
    "path = './yelp.csv'\n",
    "yelp = pd.read_csv(path)\n",
    "yelp\n"
   ],
   "metadata": {
    "id": "i32aK_G6TZl9",
    "colab": {
     "base_uri": "https://localhost:8080/",
     "height": 797
    },
    "outputId": "f6e3544b-a6bf-4909-bb13-153f9b9c9b14",
    "ExecuteTime": {
     "start_time": "2023-04-21T22:46:52.553695Z",
     "end_time": "2023-04-21T22:46:52.669383Z"
    }
   },
   "execution_count": 3,
   "outputs": [
    {
     "data": {
      "text/plain": "                 business_id        date               review_id  stars  \\\n0     9yKzy9PApeiPPOUJEtnvkg  2011-01-26  fWKvX83p0-ka4JS3dc6E5A      5   \n1     ZRJwVLyzEJq1VAihDhYiow  2011-07-27  IjZ33sJrzXqU-0X6U8NwyA      5   \n2     6oRAC4uyJCsJl1X0WZpVSA  2012-06-14  IESLBzqUCLdSzSqm0eCSxQ      4   \n3     _1QQZuf4zZOyFCvXc0o6Vg  2010-05-27  G-WvGaISbqqaMHlNnByodA      5   \n4     6ozycU1RpktNG2-1BroVtw  2012-01-05  1uJFq2r5QfJG_6ExMRCaGw      5   \n...                      ...         ...                     ...    ...   \n9995  VY_tvNUCCXGXQeSvJl757Q  2012-07-28  Ubyfp2RSDYW0g7Mbr8N3iA      3   \n9996  EKzMHI1tip8rC1-ZAy64yg  2012-01-18  2XyIOQKbVFb6uXQdJ0RzlQ      4   \n9997  53YGfwmbW73JhFiemNeyzQ  2010-11-16  jyznYkIbpqVmlsZxSDSypA      4   \n9998  9SKdOoDHcFoxK5ZtsgHJoA  2012-12-02  5UKq9WQE1qQbJ0DJbc-B6Q      2   \n9999  pF7uRzygyZsltbmVpjIyvw  2010-10-16  vWSmOhg2ID1MNZHaWapGbA      5   \n\n                                                   text    type  \\\n0     My wife took me here on my birthday for breakf...  review   \n1     I have no idea why some people give bad review...  review   \n2     love the gyro plate. Rice is so good and I als...  review   \n3     Rosie, Dakota, and I LOVE Chaparral Dog Park!!...  review   \n4     General Manager Scott Petello is a good egg!!!...  review   \n...                                                 ...     ...   \n9995  First visit...Had lunch here today - used my G...  review   \n9996  Should be called house of deliciousness!\\n\\nI ...  review   \n9997  I recently visited Olive and Ivy for business ...  review   \n9998  My nephew just moved to Scottsdale recently so...  review   \n9999  4-5 locations.. all 4.5 star average.. I think...  review   \n\n                     user_id  cool  useful  funny  \n0     rLtl8ZkDX5vH5nAx9C3q5Q     2       5      0  \n1     0a2KyEL0d3Yb1V6aivbIuQ     0       0      0  \n2     0hT2KtfLiobPvh6cDC8JQg     0       1      0  \n3     uZetl9T0NcROGOyFfughhg     1       2      0  \n4     vYmM4KTsC8ZfQBg-j5MWkw     0       0      0  \n...                      ...   ...     ...    ...  \n9995  _eqQoPtQ3e3UxLE4faT6ow     1       2      0  \n9996  ROru4uk5SaYc3rg8IU7SQw     0       0      0  \n9997  gGbN1aKQHMgfQZkqlsuwzg     0       0      0  \n9998  0lyVoNazXa20WzUyZPLaQQ     0       0      0  \n9999  KSBFytcdjPKZgXKQnYQdkA     0       0      0  \n\n[10000 rows x 10 columns]",
      "text/html": "<div>\n<style scoped>\n    .dataframe tbody tr th:only-of-type {\n        vertical-align: middle;\n    }\n\n    .dataframe tbody tr th {\n        vertical-align: top;\n    }\n\n    .dataframe thead th {\n        text-align: right;\n    }\n</style>\n<table border=\"1\" class=\"dataframe\">\n  <thead>\n    <tr style=\"text-align: right;\">\n      <th></th>\n      <th>business_id</th>\n      <th>date</th>\n      <th>review_id</th>\n      <th>stars</th>\n      <th>text</th>\n      <th>type</th>\n      <th>user_id</th>\n      <th>cool</th>\n      <th>useful</th>\n      <th>funny</th>\n    </tr>\n  </thead>\n  <tbody>\n    <tr>\n      <th>0</th>\n      <td>9yKzy9PApeiPPOUJEtnvkg</td>\n      <td>2011-01-26</td>\n      <td>fWKvX83p0-ka4JS3dc6E5A</td>\n      <td>5</td>\n      <td>My wife took me here on my birthday for breakf...</td>\n      <td>review</td>\n      <td>rLtl8ZkDX5vH5nAx9C3q5Q</td>\n      <td>2</td>\n      <td>5</td>\n      <td>0</td>\n    </tr>\n    <tr>\n      <th>1</th>\n      <td>ZRJwVLyzEJq1VAihDhYiow</td>\n      <td>2011-07-27</td>\n      <td>IjZ33sJrzXqU-0X6U8NwyA</td>\n      <td>5</td>\n      <td>I have no idea why some people give bad review...</td>\n      <td>review</td>\n      <td>0a2KyEL0d3Yb1V6aivbIuQ</td>\n      <td>0</td>\n      <td>0</td>\n      <td>0</td>\n    </tr>\n    <tr>\n      <th>2</th>\n      <td>6oRAC4uyJCsJl1X0WZpVSA</td>\n      <td>2012-06-14</td>\n      <td>IESLBzqUCLdSzSqm0eCSxQ</td>\n      <td>4</td>\n      <td>love the gyro plate. Rice is so good and I als...</td>\n      <td>review</td>\n      <td>0hT2KtfLiobPvh6cDC8JQg</td>\n      <td>0</td>\n      <td>1</td>\n      <td>0</td>\n    </tr>\n    <tr>\n      <th>3</th>\n      <td>_1QQZuf4zZOyFCvXc0o6Vg</td>\n      <td>2010-05-27</td>\n      <td>G-WvGaISbqqaMHlNnByodA</td>\n      <td>5</td>\n      <td>Rosie, Dakota, and I LOVE Chaparral Dog Park!!...</td>\n      <td>review</td>\n      <td>uZetl9T0NcROGOyFfughhg</td>\n      <td>1</td>\n      <td>2</td>\n      <td>0</td>\n    </tr>\n    <tr>\n      <th>4</th>\n      <td>6ozycU1RpktNG2-1BroVtw</td>\n      <td>2012-01-05</td>\n      <td>1uJFq2r5QfJG_6ExMRCaGw</td>\n      <td>5</td>\n      <td>General Manager Scott Petello is a good egg!!!...</td>\n      <td>review</td>\n      <td>vYmM4KTsC8ZfQBg-j5MWkw</td>\n      <td>0</td>\n      <td>0</td>\n      <td>0</td>\n    </tr>\n    <tr>\n      <th>...</th>\n      <td>...</td>\n      <td>...</td>\n      <td>...</td>\n      <td>...</td>\n      <td>...</td>\n      <td>...</td>\n      <td>...</td>\n      <td>...</td>\n      <td>...</td>\n      <td>...</td>\n    </tr>\n    <tr>\n      <th>9995</th>\n      <td>VY_tvNUCCXGXQeSvJl757Q</td>\n      <td>2012-07-28</td>\n      <td>Ubyfp2RSDYW0g7Mbr8N3iA</td>\n      <td>3</td>\n      <td>First visit...Had lunch here today - used my G...</td>\n      <td>review</td>\n      <td>_eqQoPtQ3e3UxLE4faT6ow</td>\n      <td>1</td>\n      <td>2</td>\n      <td>0</td>\n    </tr>\n    <tr>\n      <th>9996</th>\n      <td>EKzMHI1tip8rC1-ZAy64yg</td>\n      <td>2012-01-18</td>\n      <td>2XyIOQKbVFb6uXQdJ0RzlQ</td>\n      <td>4</td>\n      <td>Should be called house of deliciousness!\\n\\nI ...</td>\n      <td>review</td>\n      <td>ROru4uk5SaYc3rg8IU7SQw</td>\n      <td>0</td>\n      <td>0</td>\n      <td>0</td>\n    </tr>\n    <tr>\n      <th>9997</th>\n      <td>53YGfwmbW73JhFiemNeyzQ</td>\n      <td>2010-11-16</td>\n      <td>jyznYkIbpqVmlsZxSDSypA</td>\n      <td>4</td>\n      <td>I recently visited Olive and Ivy for business ...</td>\n      <td>review</td>\n      <td>gGbN1aKQHMgfQZkqlsuwzg</td>\n      <td>0</td>\n      <td>0</td>\n      <td>0</td>\n    </tr>\n    <tr>\n      <th>9998</th>\n      <td>9SKdOoDHcFoxK5ZtsgHJoA</td>\n      <td>2012-12-02</td>\n      <td>5UKq9WQE1qQbJ0DJbc-B6Q</td>\n      <td>2</td>\n      <td>My nephew just moved to Scottsdale recently so...</td>\n      <td>review</td>\n      <td>0lyVoNazXa20WzUyZPLaQQ</td>\n      <td>0</td>\n      <td>0</td>\n      <td>0</td>\n    </tr>\n    <tr>\n      <th>9999</th>\n      <td>pF7uRzygyZsltbmVpjIyvw</td>\n      <td>2010-10-16</td>\n      <td>vWSmOhg2ID1MNZHaWapGbA</td>\n      <td>5</td>\n      <td>4-5 locations.. all 4.5 star average.. I think...</td>\n      <td>review</td>\n      <td>KSBFytcdjPKZgXKQnYQdkA</td>\n      <td>0</td>\n      <td>0</td>\n      <td>0</td>\n    </tr>\n  </tbody>\n</table>\n<p>10000 rows × 10 columns</p>\n</div>"
     },
     "execution_count": 3,
     "metadata": {},
     "output_type": "execute_result"
    }
   ]
  },
  {
   "cell_type": "code",
   "source": [
    "# Create a new DataFrame that only contains the 5-star and 1-star reviews.\n",
    "yelp_best_worst = yelp[(yelp.stars==5) | (yelp.stars==1)] # filter out all the reviews that aren't very good or very bad to make the problem a lit easier.\n",
    "# the reviews\n",
    "X = yelp_best_worst.text\n",
    "# What we need to predict is the actual stars. However, we will map the 1 star to 0 and 5 stars to 1 such that\n",
    "# the labels to predict are contiguous(接触的,邻近的), which is a requirement in classification problems. So this\n",
    "# marks a positive review with a presence in the classification task of predicting sentiment.\n",
    "y = yelp_best_worst.stars.map({1:0, 5:1})\n"
   ],
   "metadata": {
    "id": "FOf6f1vE-gjp",
    "ExecuteTime": {
     "start_time": "2023-04-21T22:46:52.673382Z",
     "end_time": "2023-04-21T22:46:52.698242Z"
    }
   },
   "execution_count": 4,
   "outputs": []
  },
  {
   "cell_type": "markdown",
   "source": [
    "In this cell, we count the frequency of positives and negatives, and we have more positive reviews,\n",
    "and <span style=\"background:yellow\">we have move positive reviews than negative reviews, but not too much, so we can work with this.\n",
    "Also notice that this just on way of doing sentiment analysis. We could have taken the route of predicting a sentiment score as a number\n",
    "between 0 and 1, but that would be much harder.</span>"
   ],
   "metadata": {
    "collapsed": false
   }
  },
  {
   "cell_type": "code",
   "source": [
    "y.value_counts()"
   ],
   "metadata": {
    "id": "ufXEpXByG7xT",
    "colab": {
     "base_uri": "https://localhost:8080/"
    },
    "outputId": "6b9d2db2-f5f0-407d-9ec4-e96a45cc7e4b",
    "ExecuteTime": {
     "start_time": "2023-04-21T22:46:52.689668Z",
     "end_time": "2023-04-21T22:46:52.729544Z"
    }
   },
   "execution_count": 5,
   "outputs": [
    {
     "data": {
      "text/plain": "1    3337\n0     749\nName: stars, dtype: int64"
     },
     "execution_count": 5,
     "metadata": {},
     "output_type": "execute_result"
    }
   ]
  },
  {
   "cell_type": "markdown",
   "source": [
    "Our dataset is not too imbalanced so we can move on!<br>\n",
    "We need to predict sentiment, for this we need two things - a corpus(语料库) and the vocabulary."
   ],
   "metadata": {
    "id": "7Zge1JhwjBy1"
   }
  },
  {
   "cell_type": "markdown",
   "source": [
    "## Filtering and creating the corpus"
   ],
   "metadata": {
    "id": "TXLqIHnNWYMN"
   }
  },
  {
   "cell_type": "markdown",
   "source": [
    "Our first job is to filter the reviews that are too short or have weird characters. One way is using TextBlob, although we will see others as we progress."
   ],
   "metadata": {
    "id": "_LuJGb1wjeh3"
   }
  },
  {
   "cell_type": "code",
   "execution_count": 6,
   "outputs": [
    {
     "data": {
      "text/plain": "pandas.core.series.Series"
     },
     "execution_count": 6,
     "metadata": {},
     "output_type": "execute_result"
    }
   ],
   "source": [
    "type(X)"
   ],
   "metadata": {
    "collapsed": false,
    "ExecuteTime": {
     "start_time": "2023-04-21T22:46:57.758050Z",
     "end_time": "2023-04-21T22:46:57.774894Z"
    }
   }
  },
  {
   "cell_type": "code",
   "source": [
    "corpus_with_ix = [(ix, ' '.join(TextBlob(sentence).words)) for ix, sentence in X.iteritems() if type(sentence) == str and len(TextBlob(sentence).words) > 3]"
   ],
   "metadata": {
    "id": "MebwtE3DH0Qu",
    "ExecuteTime": {
     "start_time": "2023-04-21T22:47:02.681398Z",
     "end_time": "2023-04-21T22:47:12.474287Z"
    }
   },
   "execution_count": 7,
   "outputs": []
  },
  {
   "cell_type": "code",
   "source": [
    "corpus_with_ix[0]"
   ],
   "metadata": {
    "id": "1pjd3cYbI-ib",
    "colab": {
     "base_uri": "https://localhost:8080/"
    },
    "outputId": "65d42775-f323-47a8-9120-59afafd49c35",
    "ExecuteTime": {
     "start_time": "2023-04-21T22:47:22.966856Z",
     "end_time": "2023-04-21T22:47:22.995390Z"
    }
   },
   "execution_count": 8,
   "outputs": [
    {
     "data": {
      "text/plain": "(0,\n \"My wife took me here on my birthday for breakfast and it was excellent The weather was perfect which made sitting outside overlooking their grounds an absolute pleasure Our waitress was excellent and our food arrived quickly on the semi-busy Saturday morning It looked like the place fills up pretty quickly so the earlier you get here the better Do yourself a favor and get their Bloody Mary It was phenomenal and simply the best I 've ever had I 'm pretty sure they only use ingredients from their garden and blend them fresh when you order it It was amazing While EVERYTHING on the menu looks excellent I had the white truffle scrambled eggs vegetable skillet and it was tasty and delicious It came with 2 pieces of their griddled bread with was amazing and it absolutely made the meal complete It was the best toast I 've ever had Anyway I ca n't wait to go back\")"
     },
     "execution_count": 8,
     "metadata": {},
     "output_type": "execute_result"
    }
   ]
  },
  {
   "cell_type": "code",
   "source": [
    "# In this cell we put this corpus with index and create two columns and\n",
    "# check the first rows.\n",
    "corpus_df = pd.DataFrame(corpus_with_ix, columns=['index', 'text'])"
   ],
   "metadata": {
    "id": "r2jN-duFXT7-",
    "ExecuteTime": {
     "start_time": "2023-04-21T22:47:24.773927Z",
     "end_time": "2023-04-21T22:47:24.797182Z"
    }
   },
   "execution_count": 9,
   "outputs": []
  },
  {
   "cell_type": "code",
   "source": [
    "corpus_df.head()"
   ],
   "metadata": {
    "id": "bt5YXTj6Xft6",
    "colab": {
     "base_uri": "https://localhost:8080/",
     "height": 206
    },
    "outputId": "36ed4ba1-633a-42a9-bb34-8a7117bb3d2e",
    "ExecuteTime": {
     "start_time": "2023-04-21T22:47:25.960207Z",
     "end_time": "2023-04-21T22:47:25.996826Z"
    }
   },
   "execution_count": 10,
   "outputs": [
    {
     "data": {
      "text/plain": "   index                                               text\n0      0  My wife took me here on my birthday for breakf...\n1      1  I have no idea why some people give bad review...\n2      3  Rosie Dakota and I LOVE Chaparral Dog Park It ...\n3      4  General Manager Scott Petello is a good egg No...\n4      6  Drop what you 're doing and drive here After I...",
      "text/html": "<div>\n<style scoped>\n    .dataframe tbody tr th:only-of-type {\n        vertical-align: middle;\n    }\n\n    .dataframe tbody tr th {\n        vertical-align: top;\n    }\n\n    .dataframe thead th {\n        text-align: right;\n    }\n</style>\n<table border=\"1\" class=\"dataframe\">\n  <thead>\n    <tr style=\"text-align: right;\">\n      <th></th>\n      <th>index</th>\n      <th>text</th>\n    </tr>\n  </thead>\n  <tbody>\n    <tr>\n      <th>0</th>\n      <td>0</td>\n      <td>My wife took me here on my birthday for breakf...</td>\n    </tr>\n    <tr>\n      <th>1</th>\n      <td>1</td>\n      <td>I have no idea why some people give bad review...</td>\n    </tr>\n    <tr>\n      <th>2</th>\n      <td>3</td>\n      <td>Rosie Dakota and I LOVE Chaparral Dog Park It ...</td>\n    </tr>\n    <tr>\n      <th>3</th>\n      <td>4</td>\n      <td>General Manager Scott Petello is a good egg No...</td>\n    </tr>\n    <tr>\n      <th>4</th>\n      <td>6</td>\n      <td>Drop what you 're doing and drive here After I...</td>\n    </tr>\n  </tbody>\n</table>\n</div>"
     },
     "execution_count": 10,
     "metadata": {},
     "output_type": "execute_result"
    }
   ]
  },
  {
   "cell_type": "markdown",
   "source": [
    "Notice that the index column is not \"the same\" as the index of the DF, because some sentences are filtered out. Now we need to filter out the corresponding y values"
   ],
   "metadata": {
    "id": "_Rrs11U-jpaQ"
   }
  },
  {
   "cell_type": "code",
   "source": [
    "y_filtered = y[corpus_df['index']].to_numpy()"
   ],
   "metadata": {
    "id": "od6DxRRZJUMf",
    "ExecuteTime": {
     "start_time": "2023-04-21T22:47:27.774596Z",
     "end_time": "2023-04-21T22:47:27.794172Z"
    }
   },
   "execution_count": 11,
   "outputs": []
  },
  {
   "cell_type": "code",
   "source": [
    "corpus = [sentence for ix, sentence in corpus_with_ix]"
   ],
   "metadata": {
    "id": "bWV2wVBxJuaZ",
    "ExecuteTime": {
     "start_time": "2023-04-21T22:47:28.393813Z",
     "end_time": "2023-04-21T22:47:28.424807Z"
    }
   },
   "execution_count": 12,
   "outputs": []
  },
  {
   "cell_type": "code",
   "source": [
    "corpus[0]"
   ],
   "metadata": {
    "colab": {
     "base_uri": "https://localhost:8080/",
     "height": 141
    },
    "id": "hIeyPMV-sIMs",
    "outputId": "0c681d3f-fd83-4281-d616-c83a0b231108",
    "ExecuteTime": {
     "start_time": "2023-04-21T22:47:28.910497Z",
     "end_time": "2023-04-21T22:47:29.001305Z"
    }
   },
   "execution_count": 13,
   "outputs": [
    {
     "data": {
      "text/plain": "\"My wife took me here on my birthday for breakfast and it was excellent The weather was perfect which made sitting outside overlooking their grounds an absolute pleasure Our waitress was excellent and our food arrived quickly on the semi-busy Saturday morning It looked like the place fills up pretty quickly so the earlier you get here the better Do yourself a favor and get their Bloody Mary It was phenomenal and simply the best I 've ever had I 'm pretty sure they only use ingredients from their garden and blend them fresh when you order it It was amazing While EVERYTHING on the menu looks excellent I had the white truffle scrambled eggs vegetable skillet and it was tasty and delicious It came with 2 pieces of their griddled bread with was amazing and it absolutely made the meal complete It was the best toast I 've ever had Anyway I ca n't wait to go back\""
     },
     "execution_count": 13,
     "metadata": {},
     "output_type": "execute_result"
    }
   ]
  },
  {
   "cell_type": "markdown",
   "source": [
    "## The 1st key step: the tokenizer step"
   ],
   "metadata": {
    "collapsed": false
   }
  },
  {
   "cell_type": "markdown",
   "source": [
    "Now we will use Keras tokenizer to construct a vocab and a word to index mapping. In further demos we will change these by embeddings.<br>\n",
    "What we will do is to convert a list of sentences into a list of tokenized reviews, which are nothing more than a list of IDs."
   ],
   "metadata": {
    "id": "qY44oAmRjyyb"
   }
  },
  {
   "cell_type": "code",
   "source": [
    "tokenizer = Tokenizer()\n",
    "tokenizer.fit_on_texts(corpus)\n",
    "tokenized_corpus = tokenizer.texts_to_sequences(corpus) # What this did is basically it went through all the corpus, split into words, generated the vocabulary for those words, and then allocated indices to all those words and then now converts the corpus into a new object where basically it replaces each word by its ID.\n",
    "tokenized_corpus[0][:6]\n"
   ],
   "metadata": {
    "id": "apYewpk3Hfyq",
    "colab": {
     "base_uri": "https://localhost:8080/"
    },
    "outputId": "a4fc3b9a-5143-4e27-fef6-adbc19796216",
    "ExecuteTime": {
     "start_time": "2023-04-21T22:47:32.655795Z",
     "end_time": "2023-04-21T22:47:33.074231Z"
    }
   },
   "execution_count": 14,
   "outputs": [
    {
     "data": {
      "text/plain": "[13, 411, 204, 36, 41, 21]"
     },
     "execution_count": 14,
     "metadata": {},
     "output_type": "execute_result"
    }
   ]
  },
  {
   "cell_type": "code",
   "source": [
    "# I sum how many samples and what is the length of this vocabulary.\n",
    "nb_samples = sum(len(s) for s in corpus)\n",
    "vocab_size = len(tokenizer.word_index) + 1"
   ],
   "metadata": {
    "id": "oP0V04dWsvbV",
    "ExecuteTime": {
     "start_time": "2023-04-21T22:47:33.294691Z",
     "end_time": "2023-04-21T22:47:33.309843Z"
    }
   },
   "execution_count": 15,
   "outputs": []
  },
  {
   "cell_type": "code",
   "execution_count": 16,
   "outputs": [
    {
     "data": {
      "text/plain": "(2616086, 19331)"
     },
     "execution_count": 16,
     "metadata": {},
     "output_type": "execute_result"
    }
   ],
   "source": [
    "# We can see that we have over 19,000 words in our vocabulary and over 2.5 million tokens,\n",
    "# which we remember, are words.\n",
    "nb_samples, vocab_size"
   ],
   "metadata": {
    "collapsed": false,
    "ExecuteTime": {
     "start_time": "2023-04-21T22:47:35.677462Z",
     "end_time": "2023-04-21T22:47:35.705005Z"
    }
   }
  },
  {
   "cell_type": "markdown",
   "source": [
    "Notice we handled 2 million tokens in almost 20K words indexed.\n",
    "We have done the first step, created the vocabulary and the mapping. That word_index will basically allow us to go from a given word to a given index.<br>\n",
    "And then we have an inverse mapping with the given index to get the word.<br>\n",
    "So now we can come and go between words and indices."
   ],
   "metadata": {
    "id": "GFeq-1XRj-H9"
   }
  },
  {
   "cell_type": "markdown",
   "source": [
    "## The 2nd critical step: Creating the tensor"
   ],
   "metadata": {
    "id": "veUCSdQEB0FL"
   }
  },
  {
   "cell_type": "markdown",
   "source": [
    "Now comes the crucial step, we need to PAD out tokenized corpus to construct the tensor. For this we can verify the value 0 is not used for any word."
   ],
   "metadata": {
    "id": "wb6tMROUB8RO"
   }
  },
  {
   "cell_type": "markdown",
   "source": [
    "![](a-model-is-just-a-function.png)"
   ],
   "metadata": {
    "collapsed": false
   }
  },
  {
   "cell_type": "markdown",
   "source": [
    "We need to construct our tensor from the tokenized corpus. At the start, we had our corpus, which was a list of sentences.\n",
    "However, each sentence has a different number of words. So if our corpus have the above two reviews:\n",
    "\"I loved the ice cream\" and \"It is not what it used to be\", then after the tokenization, it would look like this, where\n",
    "you would have two columns, one per review, because this is the collapsed representation of the one-hot encoding, where\n",
    "for each word, the index in the characters to index mapping. So we will have [13,441,54,34,67,73] representing \"I loved\n",
    "the ice cream\". However, the second sentence has more words. So, how do we fill this? If we create a NumPy array out of\n",
    "this tokenized list, it cannot be converted into a TensorFlow tensor. The reason is that TensorFlow tensors needs to have\n",
    "a defined shape. This means that for each row, the amount of columns is the same. And if we go to higher dimensions, it\n",
    "would mean that for a row and column, the amount of channels is the same and so on. Therefore, we need to pad our corpus.\n",
    "This means that we will fill each document with some values to the right of each row, so that all the tokenized reviews\n",
    "have the same number of columns and rows, which are tokens for us. The key part is that the value that we use does not\n",
    "map to any word in our vocabulary. Supposing it is 0 like it normally is, the padded corpus would be the like the rightmost\n",
    "matrix in the above diagram. Notice the 0s at the bottom of the first column. Now this padded tokenized corpus can indeed\n",
    "be converted into a tensor."
   ],
   "metadata": {
    "collapsed": false
   }
  },
  {
   "cell_type": "code",
   "source": [
    "for ix, word in tokenizer.index_word.items():\n",
    "  print(ix, word)\n",
    "  if ix > 5:\n",
    "    break"
   ],
   "metadata": {
    "colab": {
     "base_uri": "https://localhost:8080/"
    },
    "id": "GsjEb_CHBU3P",
    "outputId": "c73dbbc1-ae66-4efd-abd2-ea1667225259",
    "ExecuteTime": {
     "start_time": "2023-04-21T22:47:42.392376Z",
     "end_time": "2023-04-21T22:47:42.409380Z"
    }
   },
   "execution_count": 17,
   "outputs": [
    {
     "name": "stdout",
     "output_type": "stream",
     "text": [
      "1 the\n",
      "2 and\n",
      "3 i\n",
      "4 a\n",
      "5 to\n",
      "6 of\n"
     ]
    }
   ]
  },
  {
   "cell_type": "markdown",
   "source": [
    "Notice that it basically goes for each ID a different word, and the id starts on 1, therefore we can pad\n",
    "our corpus with 0s as expected. So we need to find out what is the review with the most tokens. That is,\n",
    "what is the width of our tensor."
   ],
   "metadata": {
    "collapsed": false
   }
  },
  {
   "cell_type": "code",
   "source": [
    "def get_maximum_review_length(tokenized_corpus):\n",
    "    maximum = 0\n",
    "    for sentence in tokenized_corpus:\n",
    "        candidate = len(sentence)\n",
    "        if candidate > maximum:\n",
    "            maximum = candidate\n",
    "    return maximum\n",
    "max_review_length = get_maximum_review_length(tokenized_corpus)"
   ],
   "metadata": {
    "id": "fAQ1wVIScTYK",
    "ExecuteTime": {
     "start_time": "2023-04-21T22:47:45.614577Z",
     "end_time": "2023-04-21T22:47:45.626154Z"
    }
   },
   "execution_count": 18,
   "outputs": []
  },
  {
   "cell_type": "code",
   "execution_count": 19,
   "outputs": [
    {
     "data": {
      "text/plain": "933"
     },
     "execution_count": 19,
     "metadata": {},
     "output_type": "execute_result"
    }
   ],
   "source": [
    "max_review_length"
   ],
   "metadata": {
    "collapsed": false,
    "ExecuteTime": {
     "start_time": "2023-04-21T22:47:46.846435Z",
     "end_time": "2023-04-21T22:47:46.866427Z"
    }
   }
  },
  {
   "cell_type": "markdown",
   "source": [
    "Next, we construct a NumPy array of the size we want and all 0s. The size we want is the number of reviews as rows\n",
    "and the number we calculated as columns. Then we need to go review by review, extend the list with the number of 0s\n",
    "needed to have the length, the number we calculated before. And finally we replace a NumPy array at the corresponding\n",
    "row by index with the newly calculated padded tokenized review. At the end of that, we could have our NumPy array all\n",
    "filled with the corresponding word indices. This can later be converted into a TensorFlow tensor easily."
   ],
   "metadata": {
    "collapsed": false
   }
  },
  {
   "cell_type": "code",
   "source": [
    "final_X = np.zeros((len(tokenized_corpus), max_review_length))\n",
    "for ix, tokenized_sentence in enumerate(tokenized_corpus):\n",
    "    tokenized_sentence.extend([0]*(max_review_length-len(tokenized_sentence)))\n",
    "    final_X[ix] = tokenized_sentence"
   ],
   "metadata": {
    "id": "rdfRCDzxWgvb",
    "ExecuteTime": {
     "start_time": "2023-04-21T22:47:49.974162Z",
     "end_time": "2023-04-21T22:47:50.171765Z"
    }
   },
   "execution_count": 20,
   "outputs": []
  },
  {
   "cell_type": "markdown",
   "source": [
    "Finally, we appended 0s at the end to have a proper matrix. Later we will use keras methods to do this"
   ],
   "metadata": {
    "id": "6r5IGI3bkLx-"
   }
  },
  {
   "cell_type": "markdown",
   "source": [
    "## Doing the train_test split and defining model"
   ],
   "metadata": {
    "id": "quWimVZjbemw"
   }
  },
  {
   "cell_type": "code",
   "source": [
    "from sklearn.model_selection import train_test_split\n",
    "\n",
    "# We split the dataset, leave 40% of the data for the test set.\n",
    "X_train, X_test, y_train, y_test = train_test_split(final_X, y_filtered, test_size = 0.4, random_state=42)"
   ],
   "metadata": {
    "id": "gPK5YmDMTbby",
    "ExecuteTime": {
     "start_time": "2023-04-21T22:47:53.241402Z",
     "end_time": "2023-04-21T22:47:53.289919Z"
    }
   },
   "execution_count": 21,
   "outputs": []
  },
  {
   "cell_type": "markdown",
   "source": [
    "We convert everything to tensor with tf.constant"
   ],
   "metadata": {
    "collapsed": false
   }
  },
  {
   "cell_type": "code",
   "source": [
    "X_train_tensor = tf.constant(X_train)\n",
    "X_test_tensor = tf.constant(X_test)\n",
    "y_train_tensor = tf.constant(y_train)\n",
    "y_test_tensor = tf.constant(y_test)"
   ],
   "metadata": {
    "id": "SwdtffgTVRM0",
    "ExecuteTime": {
     "start_time": "2023-04-21T22:47:54.916160Z",
     "end_time": "2023-04-21T22:47:54.961336Z"
    }
   },
   "execution_count": 22,
   "outputs": []
  },
  {
   "cell_type": "markdown",
   "source": [
    "Notice the shape of X_train_tensor is [2433, 933]. The number 933 must be the maximum review length."
   ],
   "metadata": {
    "collapsed": false
   }
  },
  {
   "cell_type": "code",
   "source": [
    "X_train_tensor.shape"
   ],
   "metadata": {
    "id": "zzQA9t3JdlGO",
    "colab": {
     "base_uri": "https://localhost:8080/"
    },
    "outputId": "17b95e19-813e-41d8-ddc2-31bc1606973f",
    "ExecuteTime": {
     "start_time": "2023-04-21T22:47:56.228761Z",
     "end_time": "2023-04-21T22:47:56.247383Z"
    }
   },
   "execution_count": 23,
   "outputs": [
    {
     "data": {
      "text/plain": "TensorShape([2433, 933])"
     },
     "execution_count": 23,
     "metadata": {},
     "output_type": "execute_result"
    }
   ]
  },
  {
   "cell_type": "code",
   "execution_count": 24,
   "outputs": [
    {
     "data": {
      "text/plain": "933"
     },
     "execution_count": 24,
     "metadata": {},
     "output_type": "execute_result"
    }
   ],
   "source": [
    "max_review_length"
   ],
   "metadata": {
    "collapsed": false,
    "ExecuteTime": {
     "start_time": "2023-04-21T22:47:57.230650Z",
     "end_time": "2023-04-21T22:47:57.245652Z"
    }
   }
  },
  {
   "cell_type": "markdown",
   "source": [
    "Notice all the work one needs to do to properly pass from a text dataset into a real dataset one can\n",
    "use as input to neural network. This is the heavy lifting that a lot of people overlook and underestimate.\n",
    "Our model actually is going to be extremely simple because I don't want to focus on the architecture now,\n",
    "but in the process, which is what we have done before. We are going to have 2 layers of 150 neurons, and\n",
    "we end with 1 neuron and a sigmoid because we're predicting 1 number, the probability of being positive.\n",
    "Later, we will convert this probability into a positive or negative review simply be saying if it's more\n",
    "than 0.5, then it's positive. Otherwise, it's negative, which states our decision boundary. This kind of\n",
    "reasoning I hope is not new to you my dear. If it is, then I recommend you taking the following course\n",
    "afterward: TensorFlow Developer: Image Classification with TensorFlow, which covers that topic extensively."
   ],
   "metadata": {
    "collapsed": false
   }
  },
  {
   "cell_type": "code",
   "source": [
    "model = Sequential()\n",
    "model.add(Input(shape = (max_review_length,)))\n",
    "model.add(Dense(100, activation=leaky_relu))\n",
    "model.add(Dense(50, activation=leaky_relu))\n",
    "model.add(Dense(1, activation='sigmoid'))"
   ],
   "metadata": {
    "id": "9ySCH6VsVNTa",
    "ExecuteTime": {
     "start_time": "2023-04-21T22:48:00.499277Z",
     "end_time": "2023-04-21T22:48:00.546413Z"
    }
   },
   "execution_count": 25,
   "outputs": []
  },
  {
   "cell_type": "code",
   "source": [
    "model.compile(optimizer='adam', loss=tf.keras.losses.BinaryCrossentropy(), metrics=[\"accuracy\", tf.keras.metrics.Precision(name='precision'), tf.keras.metrics.Recall(name='recall')])\n",
    "model.summary()"
   ],
   "metadata": {
    "id": "MDd6hnQhVnOR",
    "colab": {
     "base_uri": "https://localhost:8080/"
    },
    "outputId": "390ffd61-444e-4ea6-fb98-4c050a5a4937",
    "ExecuteTime": {
     "start_time": "2023-04-21T22:48:01.482299Z",
     "end_time": "2023-04-21T22:48:01.619991Z"
    }
   },
   "execution_count": 26,
   "outputs": [
    {
     "name": "stdout",
     "output_type": "stream",
     "text": [
      "Model: \"sequential\"\n",
      "_________________________________________________________________\n",
      " Layer (type)                Output Shape              Param #   \n",
      "=================================================================\n",
      " dense (Dense)               (None, 100)               93400     \n",
      "                                                                 \n",
      " dense_1 (Dense)             (None, 50)                5050      \n",
      "                                                                 \n",
      " dense_2 (Dense)             (None, 1)                 51        \n",
      "                                                                 \n",
      "=================================================================\n",
      "Total params: 98,501\n",
      "Trainable params: 98,501\n",
      "Non-trainable params: 0\n",
      "_________________________________________________________________\n"
     ]
    }
   ]
  },
  {
   "cell_type": "markdown",
   "source": [
    "Before running the fit method and training the network, sometimes it is good to run a test input to\n",
    "verify that what our model does look kind of okay in terms of shape and such. For that, we first create\n",
    "an array of size 1 in rows and the correct number of columns. Then we got the index for the world horrible,\n",
    "which is 565. And as this review just has this word, this means it corresponds to a position 0, 0 in the text\n",
    "input. We predicted it, and notice that when we run it, it's just one number between 0 and 1, and actually\n",
    "it's quite okay because it's 1 times e to the -7, which is very close to zero, so it's very negative, although,\n",
    "of course, that could have been luck."
   ],
   "metadata": {
    "collapsed": false
   }
  },
  {
   "cell_type": "code",
   "source": [
    "test_point = np.zeros((1, max_review_length))\n",
    "token_horrible = tokenizer.texts_to_sequences(['Horrible'])[0][0]\n",
    "token_horrible"
   ],
   "metadata": {
    "id": "CRKPVyqdkbMw",
    "colab": {
     "base_uri": "https://localhost:8080/"
    },
    "outputId": "8346d21d-a06e-452c-9508-24fa8cc26d11",
    "ExecuteTime": {
     "start_time": "2023-04-21T22:48:03.615045Z",
     "end_time": "2023-04-21T22:48:03.629268Z"
    }
   },
   "execution_count": 27,
   "outputs": [
    {
     "data": {
      "text/plain": "565"
     },
     "execution_count": 27,
     "metadata": {},
     "output_type": "execute_result"
    }
   ]
  },
  {
   "cell_type": "code",
   "source": [
    "test_point[0,0] = token_horrible\n",
    "model(tf.constant(test_point))"
   ],
   "metadata": {
    "colab": {
     "base_uri": "https://localhost:8080/"
    },
    "id": "VHSTHBuXGrPS",
    "outputId": "53126ae6-00b0-4e75-a2f7-78f402620f69",
    "ExecuteTime": {
     "start_time": "2023-04-21T22:48:04.210055Z",
     "end_time": "2023-04-21T22:48:04.279501Z"
    }
   },
   "execution_count": 28,
   "outputs": [
    {
     "data": {
      "text/plain": "<tf.Tensor: shape=(1, 1), dtype=float32, numpy=array([[1.4525959e-07]], dtype=float32)>"
     },
     "execution_count": 28,
     "metadata": {},
     "output_type": "execute_result"
    }
   ]
  },
  {
   "cell_type": "markdown",
   "source": [
    "To train the network, we're going to use a technique called <span style=\"background:yellow\">early stopping</span> for this training and most trainings in this course. The idea of \"Early stopping\" is quite simple, if your target metric does not improve for a number of epochs, then stop the training because\n",
    "you have converged(收敛)."
   ],
   "metadata": {
    "collapsed": false
   }
  },
  {
   "cell_type": "markdown",
   "source": [
    "![](early-stopping.png)"
   ],
   "metadata": {
    "collapsed": false
   }
  },
  {
   "cell_type": "markdown",
   "source": [
    "The idea behind \"early stopping\" is the following:<br>\n",
    "<span style=\"background:yellow\">Suppose you don't stop the training and end at the number of epochs you determine at the start, then normally what happens\n",
    "is the above where the blue line represents the training error and the red line represents the validation error. This is\n",
    "because, at a glance, the optimizer tries so hard to reduce the target metric that it creates models that only fit the\n",
    "training set and don't generalize well. The classic image on the decision boundary is the following where the black line\n",
    "represents the natural decision boundary in a classification problem of distinguishing red and blue like negatives and positives,\n",
    "and the green line is the classifier of an overfitted method. As you can see, it is nothing like the reality, so it's not\n",
    "actually useful afterward. <u>Therefore, the idea of early stopping is just to stop before this happens, providing some kind of\n",
    "protection.</u> These methods that try to overcome these problems are called <b>regularization methods</b>.</span>"
   ],
   "metadata": {
    "collapsed": false
   }
  },
  {
   "cell_type": "markdown",
   "source": [
    "![](overfitting.png)"
   ],
   "metadata": {
    "collapsed": false
   }
  },
  {
   "cell_type": "code",
   "source": [
    "from keras.callbacks import EarlyStopping\n",
    "\n",
    "# We will use early stopping(提前停止), stating we want to maximize the precision on the validation set\n",
    "# and if it doesn't get better after five epochs to stop. The way early stopping works in TensorFlow\n",
    "# is via callbacks, so we provide it to the fit method.\n",
    "callback = EarlyStopping(monitor='val_precision', patience=5, min_delta=0.01, mode=\"max\")\n",
    "history = model.fit(X_train_tensor, y_train_tensor, epochs = 30,\n",
    "                    # TensorFlow internally will split the dataset and use 80% for training and 20% for validation.\n",
    "                    validation_split=0.2,\n",
    "                    workers = 5, callbacks=[callback], verbose=1)"
   ],
   "metadata": {
    "id": "W8JJ6_VlfrxP",
    "colab": {
     "base_uri": "https://localhost:8080/"
    },
    "outputId": "2670b035-69b9-478b-e052-4559103c6ac5",
    "ExecuteTime": {
     "start_time": "2023-04-21T22:48:08.593265Z",
     "end_time": "2023-04-21T22:48:10.796025Z"
    }
   },
   "execution_count": 29,
   "outputs": [
    {
     "name": "stdout",
     "output_type": "stream",
     "text": [
      "Epoch 1/30\n",
      "61/61 [==============================] - 1s 9ms/step - loss: 140.9445 - accuracy: 0.6953 - precision: 0.8206 - recall: 0.8046 - val_loss: 87.4669 - val_accuracy: 0.7125 - val_precision: 0.8155 - val_recall: 0.8321\n",
      "Epoch 2/30\n",
      "61/61 [==============================] - 0s 3ms/step - loss: 29.7978 - accuracy: 0.7960 - precision: 0.8717 - recall: 0.8810 - val_loss: 64.2440 - val_accuracy: 0.6345 - val_precision: 0.8028 - val_recall: 0.7252\n",
      "Epoch 3/30\n",
      "61/61 [==============================] - 0s 3ms/step - loss: 11.7439 - accuracy: 0.8489 - precision: 0.9105 - recall: 0.9048 - val_loss: 61.7645 - val_accuracy: 0.6838 - val_precision: 0.8072 - val_recall: 0.7990\n",
      "Epoch 4/30\n",
      "61/61 [==============================] - 0s 3ms/step - loss: 4.7455 - accuracy: 0.8957 - precision: 0.9351 - recall: 0.9380 - val_loss: 65.5508 - val_accuracy: 0.6879 - val_precision: 0.8020 - val_recall: 0.8142\n",
      "Epoch 5/30\n",
      "61/61 [==============================] - 0s 3ms/step - loss: 2.5411 - accuracy: 0.9234 - precision: 0.9553 - recall: 0.9512 - val_loss: 64.4909 - val_accuracy: 0.6099 - val_precision: 0.7908 - val_recall: 0.7023\n",
      "Epoch 6/30\n",
      "61/61 [==============================] - 0s 3ms/step - loss: 2.1495 - accuracy: 0.9224 - precision: 0.9553 - recall: 0.9499 - val_loss: 66.6972 - val_accuracy: 0.7187 - val_precision: 0.7977 - val_recall: 0.8728\n"
     ]
    }
   ]
  },
  {
   "cell_type": "markdown",
   "source": [
    "## Some plots"
   ],
   "metadata": {
    "id": "ROXVUovhYRWG"
   }
  },
  {
   "cell_type": "code",
   "source": [
    "import matplotlib.pyplot as plt\n",
    "# function for plotting loss\n",
    "def plot_metrics(train_metric, val_metric=None, metric_name=None, title=None, ylim=5):\n",
    "    plt.title(title)\n",
    "    plt.ylim(0,ylim)\n",
    "    plt.plot(train_metric,color='blue',label=metric_name)\n",
    "    if val_metric is not None: plt.plot(val_metric,color='green',label='val_' + metric_name)\n",
    "    plt.legend(loc=\"upper right\")\n",
    "\n",
    "# plot loss history\n",
    "plot_metrics(history.history['loss'], history.history['val_loss'], \"Loss\", \"Loss\", ylim=100.0)\n"
   ],
   "metadata": {
    "id": "gtIQvnUcg2T2",
    "colab": {
     "base_uri": "https://localhost:8080/",
     "height": 281
    },
    "outputId": "83707a43-58b7-40c7-ee93-401ad405d800",
    "ExecuteTime": {
     "start_time": "2023-04-21T22:48:13.671436Z",
     "end_time": "2023-04-21T22:48:14.091089Z"
    }
   },
   "execution_count": 30,
   "outputs": [
    {
     "data": {
      "text/plain": "<Figure size 640x480 with 1 Axes>",
      "image/png": "[encoded data removed]"
     },
     "metadata": {},
     "output_type": "display_data"
    }
   ]
  },
  {
   "cell_type": "markdown",
   "source": [
    "Indeed, the loss went close to 0 very fast, but the validation loss, in our case, is kind of converged on the 70s,\n",
    "so it was correct, early stopping made the right call."
   ],
   "metadata": {
    "collapsed": false
   }
  },
  {
   "cell_type": "code",
   "source": [
    "plot_metrics(history.history['accuracy'], history.history['val_accuracy'], \"Accuracy\", \"Accuracy\", ylim=1.0)\n"
   ],
   "metadata": {
    "id": "q6pBSQSPg2V6",
    "colab": {
     "base_uri": "https://localhost:8080/",
     "height": 281
    },
    "outputId": "ba3efb0d-92c1-4064-8aef-255337230bd5",
    "ExecuteTime": {
     "start_time": "2023-04-21T22:48:15.759630Z",
     "end_time": "2023-04-21T22:48:15.925691Z"
    }
   },
   "execution_count": 31,
   "outputs": [
    {
     "data": {
      "text/plain": "<Figure size 640x480 with 1 Axes>",
      "image/png": "[encoded data removed]"
     },
     "metadata": {},
     "output_type": "display_data"
    }
   ]
  },
  {
   "cell_type": "markdown",
   "source": [
    "We can see that effectively accuracy is around 70%. It doesn't improve over time. Of course, the training accuracy,\n",
    "it does."
   ],
   "metadata": {
    "collapsed": false
   }
  },
  {
   "cell_type": "markdown",
   "source": [
    "## Some manual validation"
   ],
   "metadata": {
    "id": "tNqRJ0wCbXMv"
   }
  },
  {
   "cell_type": "markdown",
   "source": [
    "In the manual validation, we will construct the same way as before the test input with the review horrible restaurant.\n",
    "And we pass it via the model checking."
   ],
   "metadata": {
    "collapsed": false
   }
  },
  {
   "cell_type": "code",
   "source": [
    "# So first, we will extend it. We will have our test point, which needs to be of shape (1,933)\n",
    "test_point = np.zeros((1, max_review_length))\n",
    "tokenized_review = tokenizer.texts_to_sequences(['I am ill.'])[0]\n",
    "tokenized_review.extend([0] * (max_review_length -3))\n",
    "# tokenized_review = tokenizer.texts_to_sequences(['Horrible restaurant'])[0]\n",
    "# tokenized_review.extend([0] * (max_review_length -2))\n",
    "test_point = np.array([tokenized_review])\n",
    "test_point.shape"
   ],
   "metadata": {
    "id": "eF2Trj0ul1a5",
    "ExecuteTime": {
     "start_time": "2023-04-21T22:48:18.750539Z",
     "end_time": "2023-04-21T22:48:18.768734Z"
    }
   },
   "execution_count": 32,
   "outputs": [
    {
     "data": {
      "text/plain": "(1, 933)"
     },
     "execution_count": 32,
     "metadata": {},
     "output_type": "execute_result"
    }
   ]
  },
  {
   "cell_type": "code",
   "source": [
    "# We run model.predict being less than 0.5, and we indeed get true. So the model correctly\n",
    "# predicted that horrible restaurant is bad.\n",
    "predicted_value = model.predict(tf.constant(test_point))\n",
    "predicted_value"
   ],
   "metadata": {
    "colab": {
     "base_uri": "https://localhost:8080/"
    },
    "id": "TYt5jsvZM5QJ",
    "outputId": "0bc4c962-bdad-4518-af1e-21a2efa1a099",
    "ExecuteTime": {
     "start_time": "2023-04-21T22:48:20.345074Z",
     "end_time": "2023-04-21T22:48:20.468895Z"
    }
   },
   "execution_count": 33,
   "outputs": [
    {
     "name": "stdout",
     "output_type": "stream",
     "text": [
      "1/1 [==============================] - 0s 81ms/step\n"
     ]
    },
    {
     "data": {
      "text/plain": "array([[0.05244273]], dtype=float32)"
     },
     "execution_count": 33,
     "metadata": {},
     "output_type": "execute_result"
    }
   ]
  },
  {
   "cell_type": "code",
   "execution_count": 34,
   "outputs": [
    {
     "data": {
      "text/plain": "array([[ True]])"
     },
     "execution_count": 34,
     "metadata": {},
     "output_type": "execute_result"
    }
   ],
   "source": [
    "predicted_value < 0.5"
   ],
   "metadata": {
    "collapsed": false,
    "ExecuteTime": {
     "start_time": "2023-04-21T22:48:21.678831Z",
     "end_time": "2023-04-21T22:48:21.693828Z"
    }
   }
  },
  {
   "cell_type": "markdown",
   "source": [
    "Now we will get a random. So let's get a random from the test set - a random review.\n",
    "We will use this tokenizer.sequences_to_texts to tokenize it correctly."
   ],
   "metadata": {
    "collapsed": false
   }
  },
  {
   "cell_type": "code",
   "source": [
    "i = np.random.randint(0, X_test_tensor.shape[0])\n",
    "tokenizer.sequences_to_texts([X_test_tensor[i].numpy()])"
   ],
   "metadata": {
    "id": "EgO7d2LdbYhD",
    "colab": {
     "base_uri": "https://localhost:8080/"
    },
    "outputId": "081c2094-2ace-4eca-e8e6-29f73fccda33",
    "ExecuteTime": {
     "start_time": "2023-04-21T22:48:23.361722Z",
     "end_time": "2023-04-21T22:48:23.422799Z"
    }
   },
   "execution_count": 35,
   "outputs": [
    {
     "data": {
      "text/plain": "[\"well what can i say about this place the restaurant is located in an upscale commercial complex with boutiques and an aj 's in the middle of arrowhead ranch definitely does n't have the boring suburban feel which you get along bell road only a mile away the inside has exposed brick on the walls with sleek looking seating each food item comes out looking like a self made creation from the chef i have to say the marguerite pizza is one of my favorites having a crispy crust and savory flavors that make my mouth want to eat more more and more but i do n't need to eat more because i fill my mouth with a good wine i had a dutton estate chardonnay i think which was half off on this day which kept me happy this place did not fail me so will i be back umm that 's a yes\"]"
     },
     "execution_count": 35,
     "metadata": {},
     "output_type": "execute_result"
    }
   ]
  },
  {
   "cell_type": "code",
   "source": [
    "prediction = model.predict(np.array([X_test_tensor[i]])) > 0.5\n",
    "prediction == y_test_tensor[i]"
   ],
   "metadata": {
    "colab": {
     "base_uri": "https://localhost:8080/"
    },
    "id": "6h70Y3FYN51x",
    "outputId": "eeb89749-d418-4a36-8394-ab426040b9f8",
    "ExecuteTime": {
     "start_time": "2023-04-21T22:48:24.639085Z",
     "end_time": "2023-04-21T22:48:24.729787Z"
    }
   },
   "execution_count": 36,
   "outputs": [
    {
     "name": "stdout",
     "output_type": "stream",
     "text": [
      "1/1 [==============================] - 0s 45ms/step\n"
     ]
    },
    {
     "data": {
      "text/plain": "<tf.Tensor: shape=(1, 1), dtype=bool, numpy=array([[ True]])>"
     },
     "execution_count": 36,
     "metadata": {},
     "output_type": "execute_result"
    }
   ]
  },
  {
   "cell_type": "markdown",
   "source": [
    "What you should do eventually is a model.evaluate on the test set and on the labels on the test set to get all your metrics."
   ],
   "metadata": {
    "collapsed": false
   }
  },
  {
   "cell_type": "code",
   "source": [
    "model.evaluate(X_test_tensor, y_test_tensor)"
   ],
   "metadata": {
    "id": "icVOjVFybsU-",
    "colab": {
     "base_uri": "https://localhost:8080/"
    },
    "outputId": "9c9461d3-440a-49e4-c38c-4035a91bb152",
    "ExecuteTime": {
     "start_time": "2023-04-21T22:48:29.062323Z",
     "end_time": "2023-04-21T22:48:29.266524Z"
    }
   },
   "execution_count": 37,
   "outputs": [
    {
     "name": "stdout",
     "output_type": "stream",
     "text": [
      "51/51 [==============================] - 0s 2ms/step - loss: 58.0754 - accuracy: 0.7394 - precision: 0.8169 - recall: 0.8768\n"
     ]
    },
    {
     "data": {
      "text/plain": "[58.07537078857422, 0.7393715381622314, 0.8169013857841492, 0.8767951726913452]"
     },
     "execution_count": 37,
     "metadata": {},
     "output_type": "execute_result"
    }
   ]
  },
  {
   "cell_type": "markdown",
   "source": [
    "Therefore, the model predicts correctly 70% of the reviews, but with 80% precision and recall, so we have a good distribution between positives and negatives.\n",
    "That is our baseline, let's see if we can improve it on future demos."
   ],
   "metadata": {
    "id": "VBSc6m2LcPfk"
   }
  },
  {
   "cell_type": "markdown",
   "source": [
    "Notice, before ending this demo, <span style=\"background:yellow\">the most important thing that we have done is that conversion from a dataset raw text into the input tensor.</span>"
   ],
   "metadata": {
    "collapsed": false
   }
  },
  {
   "cell_type": "code",
   "execution_count": null,
   "outputs": [],
   "source": [],
   "metadata": {
    "collapsed": false
   }
  }
 ]
}
